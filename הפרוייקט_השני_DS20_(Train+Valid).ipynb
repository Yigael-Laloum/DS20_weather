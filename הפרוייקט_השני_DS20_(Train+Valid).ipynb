{
  "cells": [
    {
      "cell_type": "markdown",
      "metadata": {
        "id": "view-in-github",
        "colab_type": "text"
      },
      "source": [
        "<a href=\"https://colab.research.google.com/github/Yigael-Laloum/DS20_weather/blob/main/%D7%94%D7%A4%D7%A8%D7%95%D7%99%D7%99%D7%A7%D7%98_%D7%94%D7%A9%D7%A0%D7%99_DS20_(Train%2BValid).ipynb\" target=\"_parent\"><img src=\"https://colab.research.google.com/assets/colab-badge.svg\" alt=\"Open In Colab\"/></a>"
      ]
    },
    {
      "cell_type": "markdown",
      "id": "e1f007e4-ad8b-433b-ab76-25065aa29675",
      "metadata": {
        "id": "e1f007e4-ad8b-433b-ab76-25065aa29675"
      },
      "source": [
        "# הפרוייקט השני DS20"
      ]
    },
    {
      "cell_type": "markdown",
      "id": "123e8f39-f7dd-4b8d-94d7-c73d3fc20c88",
      "metadata": {
        "id": "123e8f39-f7dd-4b8d-94d7-c73d3fc20c88"
      },
      "source": [
        "### EDA to compare Train to Valid"
      ]
    },
    {
      "cell_type": "code",
      "execution_count": null,
      "id": "03526556-1995-496a-8f24-9e8d72659318",
      "metadata": {
        "id": "03526556-1995-496a-8f24-9e8d72659318"
      },
      "outputs": [],
      "source": [
        "import pandas as pd\n",
        "import matplotlib.pyplot as plt\n",
        "import seaborn as sns\n",
        "import time\n",
        "from datetime import datetime\n",
        "from sklearn.model_selection import train_test_split"
      ]
    },
    {
      "cell_type": "markdown",
      "id": "35cac95d-2732-4424-b85f-07afc087b917",
      "metadata": {
        "id": "35cac95d-2732-4424-b85f-07afc087b917"
      },
      "source": [
        "### upload the files and make sure there is no nulls 'saledate'"
      ]
    },
    {
      "cell_type": "code",
      "execution_count": null,
      "id": "64104526-0dec-457f-9311-3fcfffa51bcd",
      "metadata": {
        "id": "64104526-0dec-457f-9311-3fcfffa51bcd"
      },
      "outputs": [],
      "source": [
        "df_train = pd.read_csv('Train.csv', low_memory = False)"
      ]
    },
    {
      "cell_type": "code",
      "execution_count": null,
      "id": "32abb51e-6e18-4b33-8d72-fdd68d9dd276",
      "metadata": {
        "id": "32abb51e-6e18-4b33-8d72-fdd68d9dd276"
      },
      "outputs": [],
      "source": [
        "df_valid = pd.read_csv('Valid.csv', low_memory = False)"
      ]
    },
    {
      "cell_type": "code",
      "execution_count": null,
      "id": "b203b6c4-0fd7-438c-bc75-48b14ffe0c8e",
      "metadata": {
        "colab": {
          "base_uri": "https://localhost:8080/"
        },
        "id": "b203b6c4-0fd7-438c-bc75-48b14ffe0c8e",
        "outputId": "9810954e-810f-4be6-f217-fa43c7fe02d8"
      },
      "outputs": [
        {
          "output_type": "stream",
          "name": "stdout",
          "text": [
            "missing 'saledate' values in df_train_valid[saledate]:  0\n",
            "missing 'saledate' values in df_train[saledate]:  0\n"
          ]
        }
      ],
      "source": [
        "print(\"missing 'saledate' values in df_train_valid[saledate]: \" , df_valid['saledate'].isnull().sum())\n",
        "print(\"missing 'saledate' values in df_train[saledate]: \" , df_train['saledate'].isnull().sum())"
      ]
    },
    {
      "cell_type": "markdown",
      "id": "721daa0c-5f21-4306-a69f-7a509391f56a",
      "metadata": {
        "id": "721daa0c-5f21-4306-a69f-7a509391f56a"
      },
      "source": [
        "### check nulls"
      ]
    },
    {
      "cell_type": "code",
      "execution_count": null,
      "id": "d266f88b-2d46-4474-8ba2-6de9ee9fd58c",
      "metadata": {
        "colab": {
          "base_uri": "https://localhost:8080/",
          "height": 1000
        },
        "id": "d266f88b-2d46-4474-8ba2-6de9ee9fd58c",
        "outputId": "3cf1dad4-2835-4df4-bad7-7697202f8992",
        "collapsed": true
      },
      "outputs": [
        {
          "output_type": "execute_result",
          "data": {
            "text/plain": [
              "SalesID                          0\n",
              "SalePrice                        0\n",
              "MachineID                        0\n",
              "ModelID                          0\n",
              "datasource                       0\n",
              "auctioneerID                 20136\n",
              "YearMade                         0\n",
              "MachineHoursCurrentMeter    258360\n",
              "UsageBand                   331486\n",
              "saledate                         0\n",
              "fiModelDesc                      0\n",
              "fiBaseModel                      0\n",
              "fiSecondaryDesc             137191\n",
              "fiModelSeries               344217\n",
              "fiModelDescriptor           329206\n",
              "ProductSize                 210775\n",
              "fiProductClassDesc               0\n",
              "state                            0\n",
              "ProductGroup                     0\n",
              "ProductGroupDesc                 0\n",
              "Drive_System                296764\n",
              "Enclosure                      325\n",
              "Forks                       209048\n",
              "Pad_Type                    321991\n",
              "Ride_Control                252519\n",
              "Stick                       321991\n",
              "Transmission                217895\n",
              "Turbocharged                321991\n",
              "Blade_Extension             375906\n",
              "Blade_Width                 375906\n",
              "Enclosure_Type              375906\n",
              "Engine_Horsepower           375906\n",
              "Hydraulics                   80555\n",
              "Pushblock                   375906\n",
              "Ripper                      296988\n",
              "Scarifier                   375895\n",
              "Tip_Control                 375906\n",
              "Tire_Size                   306407\n",
              "Coupler                     187173\n",
              "Coupler_System              357667\n",
              "Grouser_Tracks              357763\n",
              "Hydraulics_Flow             357763\n",
              "Track_Type                  301972\n",
              "Undercarriage_Pad_Width     301253\n",
              "Stick_Length                301907\n",
              "Thumb                       301837\n",
              "Pattern_Changer             301907\n",
              "Grouser_Type                301972\n",
              "Backhoe_Mounting            322453\n",
              "Blade_Type                  321292\n",
              "Travel_Controls             321291\n",
              "Differential_Type           331714\n",
              "Steering_Controls           331756\n",
              "dtype: int64"
            ],
            "text/html": [
              "<div>\n",
              "<style scoped>\n",
              "    .dataframe tbody tr th:only-of-type {\n",
              "        vertical-align: middle;\n",
              "    }\n",
              "\n",
              "    .dataframe tbody tr th {\n",
              "        vertical-align: top;\n",
              "    }\n",
              "\n",
              "    .dataframe thead th {\n",
              "        text-align: right;\n",
              "    }\n",
              "</style>\n",
              "<table border=\"1\" class=\"dataframe\">\n",
              "  <thead>\n",
              "    <tr style=\"text-align: right;\">\n",
              "      <th></th>\n",
              "      <th>0</th>\n",
              "    </tr>\n",
              "  </thead>\n",
              "  <tbody>\n",
              "    <tr>\n",
              "      <th>SalesID</th>\n",
              "      <td>0</td>\n",
              "    </tr>\n",
              "    <tr>\n",
              "      <th>SalePrice</th>\n",
              "      <td>0</td>\n",
              "    </tr>\n",
              "    <tr>\n",
              "      <th>MachineID</th>\n",
              "      <td>0</td>\n",
              "    </tr>\n",
              "    <tr>\n",
              "      <th>ModelID</th>\n",
              "      <td>0</td>\n",
              "    </tr>\n",
              "    <tr>\n",
              "      <th>datasource</th>\n",
              "      <td>0</td>\n",
              "    </tr>\n",
              "    <tr>\n",
              "      <th>auctioneerID</th>\n",
              "      <td>20136</td>\n",
              "    </tr>\n",
              "    <tr>\n",
              "      <th>YearMade</th>\n",
              "      <td>0</td>\n",
              "    </tr>\n",
              "    <tr>\n",
              "      <th>MachineHoursCurrentMeter</th>\n",
              "      <td>258360</td>\n",
              "    </tr>\n",
              "    <tr>\n",
              "      <th>UsageBand</th>\n",
              "      <td>331486</td>\n",
              "    </tr>\n",
              "    <tr>\n",
              "      <th>saledate</th>\n",
              "      <td>0</td>\n",
              "    </tr>\n",
              "    <tr>\n",
              "      <th>fiModelDesc</th>\n",
              "      <td>0</td>\n",
              "    </tr>\n",
              "    <tr>\n",
              "      <th>fiBaseModel</th>\n",
              "      <td>0</td>\n",
              "    </tr>\n",
              "    <tr>\n",
              "      <th>fiSecondaryDesc</th>\n",
              "      <td>137191</td>\n",
              "    </tr>\n",
              "    <tr>\n",
              "      <th>fiModelSeries</th>\n",
              "      <td>344217</td>\n",
              "    </tr>\n",
              "    <tr>\n",
              "      <th>fiModelDescriptor</th>\n",
              "      <td>329206</td>\n",
              "    </tr>\n",
              "    <tr>\n",
              "      <th>ProductSize</th>\n",
              "      <td>210775</td>\n",
              "    </tr>\n",
              "    <tr>\n",
              "      <th>fiProductClassDesc</th>\n",
              "      <td>0</td>\n",
              "    </tr>\n",
              "    <tr>\n",
              "      <th>state</th>\n",
              "      <td>0</td>\n",
              "    </tr>\n",
              "    <tr>\n",
              "      <th>ProductGroup</th>\n",
              "      <td>0</td>\n",
              "    </tr>\n",
              "    <tr>\n",
              "      <th>ProductGroupDesc</th>\n",
              "      <td>0</td>\n",
              "    </tr>\n",
              "    <tr>\n",
              "      <th>Drive_System</th>\n",
              "      <td>296764</td>\n",
              "    </tr>\n",
              "    <tr>\n",
              "      <th>Enclosure</th>\n",
              "      <td>325</td>\n",
              "    </tr>\n",
              "    <tr>\n",
              "      <th>Forks</th>\n",
              "      <td>209048</td>\n",
              "    </tr>\n",
              "    <tr>\n",
              "      <th>Pad_Type</th>\n",
              "      <td>321991</td>\n",
              "    </tr>\n",
              "    <tr>\n",
              "      <th>Ride_Control</th>\n",
              "      <td>252519</td>\n",
              "    </tr>\n",
              "    <tr>\n",
              "      <th>Stick</th>\n",
              "      <td>321991</td>\n",
              "    </tr>\n",
              "    <tr>\n",
              "      <th>Transmission</th>\n",
              "      <td>217895</td>\n",
              "    </tr>\n",
              "    <tr>\n",
              "      <th>Turbocharged</th>\n",
              "      <td>321991</td>\n",
              "    </tr>\n",
              "    <tr>\n",
              "      <th>Blade_Extension</th>\n",
              "      <td>375906</td>\n",
              "    </tr>\n",
              "    <tr>\n",
              "      <th>Blade_Width</th>\n",
              "      <td>375906</td>\n",
              "    </tr>\n",
              "    <tr>\n",
              "      <th>Enclosure_Type</th>\n",
              "      <td>375906</td>\n",
              "    </tr>\n",
              "    <tr>\n",
              "      <th>Engine_Horsepower</th>\n",
              "      <td>375906</td>\n",
              "    </tr>\n",
              "    <tr>\n",
              "      <th>Hydraulics</th>\n",
              "      <td>80555</td>\n",
              "    </tr>\n",
              "    <tr>\n",
              "      <th>Pushblock</th>\n",
              "      <td>375906</td>\n",
              "    </tr>\n",
              "    <tr>\n",
              "      <th>Ripper</th>\n",
              "      <td>296988</td>\n",
              "    </tr>\n",
              "    <tr>\n",
              "      <th>Scarifier</th>\n",
              "      <td>375895</td>\n",
              "    </tr>\n",
              "    <tr>\n",
              "      <th>Tip_Control</th>\n",
              "      <td>375906</td>\n",
              "    </tr>\n",
              "    <tr>\n",
              "      <th>Tire_Size</th>\n",
              "      <td>306407</td>\n",
              "    </tr>\n",
              "    <tr>\n",
              "      <th>Coupler</th>\n",
              "      <td>187173</td>\n",
              "    </tr>\n",
              "    <tr>\n",
              "      <th>Coupler_System</th>\n",
              "      <td>357667</td>\n",
              "    </tr>\n",
              "    <tr>\n",
              "      <th>Grouser_Tracks</th>\n",
              "      <td>357763</td>\n",
              "    </tr>\n",
              "    <tr>\n",
              "      <th>Hydraulics_Flow</th>\n",
              "      <td>357763</td>\n",
              "    </tr>\n",
              "    <tr>\n",
              "      <th>Track_Type</th>\n",
              "      <td>301972</td>\n",
              "    </tr>\n",
              "    <tr>\n",
              "      <th>Undercarriage_Pad_Width</th>\n",
              "      <td>301253</td>\n",
              "    </tr>\n",
              "    <tr>\n",
              "      <th>Stick_Length</th>\n",
              "      <td>301907</td>\n",
              "    </tr>\n",
              "    <tr>\n",
              "      <th>Thumb</th>\n",
              "      <td>301837</td>\n",
              "    </tr>\n",
              "    <tr>\n",
              "      <th>Pattern_Changer</th>\n",
              "      <td>301907</td>\n",
              "    </tr>\n",
              "    <tr>\n",
              "      <th>Grouser_Type</th>\n",
              "      <td>301972</td>\n",
              "    </tr>\n",
              "    <tr>\n",
              "      <th>Backhoe_Mounting</th>\n",
              "      <td>322453</td>\n",
              "    </tr>\n",
              "    <tr>\n",
              "      <th>Blade_Type</th>\n",
              "      <td>321292</td>\n",
              "    </tr>\n",
              "    <tr>\n",
              "      <th>Travel_Controls</th>\n",
              "      <td>321291</td>\n",
              "    </tr>\n",
              "    <tr>\n",
              "      <th>Differential_Type</th>\n",
              "      <td>331714</td>\n",
              "    </tr>\n",
              "    <tr>\n",
              "      <th>Steering_Controls</th>\n",
              "      <td>331756</td>\n",
              "    </tr>\n",
              "  </tbody>\n",
              "</table>\n",
              "</div><br><label><b>dtype:</b> int64</label>"
            ]
          },
          "metadata": {},
          "execution_count": 7
        }
      ],
      "source": [
        "df_train.isnull().sum()"
      ]
    },
    {
      "cell_type": "code",
      "execution_count": null,
      "id": "191ebcef-599a-4421-843f-263e9a9a29f8",
      "metadata": {
        "colab": {
          "base_uri": "https://localhost:8080/"
        },
        "id": "191ebcef-599a-4421-843f-263e9a9a29f8",
        "outputId": "7fc45e84-ded2-47ad-8641-39c3c5159052"
      },
      "outputs": [
        {
          "output_type": "execute_result",
          "data": {
            "text/plain": [
              "401125"
            ]
          },
          "metadata": {},
          "execution_count": 8
        }
      ],
      "source": [
        "len(df_train)"
      ]
    },
    {
      "cell_type": "code",
      "execution_count": null,
      "id": "76876f3b-c950-44ca-9af9-34547bbcc958",
      "metadata": {
        "colab": {
          "base_uri": "https://localhost:8080/"
        },
        "id": "76876f3b-c950-44ca-9af9-34547bbcc958",
        "outputId": "75566c61-27b2-40f4-e120-ad89f9bd9859"
      },
      "outputs": [
        {
          "output_type": "stream",
          "name": "stdout",
          "text": [
            "SalesID                       int64\n",
            "SalePrice                     int64\n",
            "MachineID                     int64\n",
            "ModelID                       int64\n",
            "datasource                    int64\n",
            "auctioneerID                float64\n",
            "YearMade                      int64\n",
            "MachineHoursCurrentMeter    float64\n",
            "UsageBand                    object\n",
            "saledate                     object\n",
            "fiModelDesc                  object\n",
            "fiBaseModel                  object\n",
            "fiSecondaryDesc              object\n",
            "fiModelSeries                object\n",
            "fiModelDescriptor            object\n",
            "ProductSize                  object\n",
            "fiProductClassDesc           object\n",
            "state                        object\n",
            "ProductGroup                 object\n",
            "ProductGroupDesc             object\n",
            "Drive_System                 object\n",
            "Enclosure                    object\n",
            "Forks                        object\n",
            "Pad_Type                     object\n",
            "Ride_Control                 object\n",
            "Stick                        object\n",
            "Transmission                 object\n",
            "Turbocharged                 object\n",
            "Blade_Extension              object\n",
            "Blade_Width                  object\n",
            "Enclosure_Type               object\n",
            "Engine_Horsepower            object\n",
            "Hydraulics                   object\n",
            "Pushblock                    object\n",
            "Ripper                       object\n",
            "Scarifier                    object\n",
            "Tip_Control                  object\n",
            "Tire_Size                    object\n",
            "Coupler                      object\n",
            "Coupler_System               object\n",
            "Grouser_Tracks               object\n",
            "Hydraulics_Flow              object\n",
            "Track_Type                   object\n",
            "Undercarriage_Pad_Width      object\n",
            "Stick_Length                 object\n",
            "Thumb                        object\n",
            "Pattern_Changer              object\n",
            "Grouser_Type                 object\n",
            "Backhoe_Mounting             object\n",
            "Blade_Type                   object\n",
            "Travel_Controls              object\n",
            "Differential_Type            object\n",
            "Steering_Controls            object\n",
            "dtype: object\n"
          ]
        }
      ],
      "source": [
        "print(df_train.dtypes)"
      ]
    },
    {
      "cell_type": "markdown",
      "id": "bf40668e-f9b7-42a2-985a-4cd1acc9c339",
      "metadata": {
        "id": "bf40668e-f9b7-42a2-985a-4cd1acc9c339"
      },
      "source": [
        "#### **from 'Train'** delete column \"ProductGroupDesc\" because its the same values as \"ProductGroup\" and 'fiModelDesc' because its aggrigate fiBasemodel + fiModelseries  + fiSecondarydescription"
      ]
    },
    {
      "cell_type": "code",
      "execution_count": null,
      "id": "43c102b1-5c8c-47cb-b554-eb4cc931e73e",
      "metadata": {
        "id": "43c102b1-5c8c-47cb-b554-eb4cc931e73e"
      },
      "outputs": [],
      "source": [
        "df_train = df_train.drop(columns=['ProductGroupDesc', 'fiModelDesc'])"
      ]
    },
    {
      "cell_type": "markdown",
      "source": [
        "**from 'Valid'** delete column \"ProductGroupDesc\" because its the same values as \"ProductGroup\" and 'fiModelDesc' because its aggrigate fiBasemodel + fiModelseries + fiSecondarydescription"
      ],
      "metadata": {
        "id": "RcbYM2rQ1YyW"
      },
      "id": "RcbYM2rQ1YyW"
    },
    {
      "cell_type": "code",
      "source": [
        "df_valid = df_valid.drop(columns=['ProductGroupDesc', 'fiModelDesc'])"
      ],
      "metadata": {
        "id": "FuBCULDK1Sv4"
      },
      "id": "FuBCULDK1Sv4",
      "execution_count": null,
      "outputs": []
    },
    {
      "cell_type": "markdown",
      "id": "a2a23007-7027-4059-8000-303679c0ef7b",
      "metadata": {
        "id": "a2a23007-7027-4059-8000-303679c0ef7b"
      },
      "source": [
        "### **at 'Train'** cahnge \"UsageBand\" column to Categorical type with Categorical codes"
      ]
    },
    {
      "cell_type": "code",
      "execution_count": null,
      "id": "7a317cc1-eacc-4f0f-804b-c33e7a2b7af7",
      "metadata": {
        "id": "7a317cc1-eacc-4f0f-804b-c33e7a2b7af7"
      },
      "outputs": [],
      "source": [
        "df_train[\"UsageBand\"]=df_train[\"UsageBand\"].astype('category')\n",
        "df_train[\"UsageBand\"]=pd.Categorical(df_train[\"UsageBand\"], categories=[\"Low\", \"Medium\", \"High\"], ordered = True)\n",
        "df_train[\"UsageBand\"]=df_train.UsageBand.cat.codes"
      ]
    },
    {
      "cell_type": "markdown",
      "id": "d2802796-8387-46d2-a4ba-0aa19dc27b9c",
      "metadata": {
        "id": "d2802796-8387-46d2-a4ba-0aa19dc27b9c"
      },
      "source": [
        "### **at 'Train'** transform \"UsageBand\" from object type to Categorical type and ordr from low to high"
      ]
    },
    {
      "cell_type": "code",
      "execution_count": null,
      "id": "6ec41eb1-1bb6-498e-ad25-00010767d198",
      "metadata": {
        "colab": {
          "base_uri": "https://localhost:8080/"
        },
        "id": "6ec41eb1-1bb6-498e-ad25-00010767d198",
        "outputId": "b73c70bc-5492-4746-8689-87fc190bcb3c"
      },
      "outputs": [
        {
          "output_type": "execute_result",
          "data": {
            "text/plain": [
              "array([ 0,  2,  1, -1], dtype=int8)"
            ]
          },
          "metadata": {},
          "execution_count": 13
        }
      ],
      "source": [
        "df_train[\"UsageBand\"].unique()"
      ]
    },
    {
      "cell_type": "code",
      "execution_count": null,
      "id": "0949256f-1fc7-4bc2-8868-16d11022f2f5",
      "metadata": {
        "id": "0949256f-1fc7-4bc2-8868-16d11022f2f5"
      },
      "outputs": [],
      "source": [
        "df_train[\"UsageBand\"]=df_train[\"UsageBand\"].astype('category')"
      ]
    },
    {
      "cell_type": "markdown",
      "source": [
        "### **at 'Valid'** cahnge \"UsageBand\" column to Categorical type with Categorical codes"
      ],
      "metadata": {
        "id": "lWv2tCnw3OZd"
      },
      "id": "lWv2tCnw3OZd"
    },
    {
      "cell_type": "code",
      "source": [
        "df_valid[\"UsageBand\"]=df_valid[\"UsageBand\"].astype('category')\n",
        "df_valid[\"UsageBand\"]=pd.Categorical(df_valid[\"UsageBand\"], categories=[\"Low\", \"Medium\", \"High\"], ordered = True)\n",
        "df_valid[\"UsageBand\"]=df_valid.UsageBand.cat.codes"
      ],
      "metadata": {
        "id": "Dj-TEycG2xVn"
      },
      "id": "Dj-TEycG2xVn",
      "execution_count": null,
      "outputs": []
    },
    {
      "cell_type": "markdown",
      "source": [
        "**at 'Valid'** transform \"UsageBand\" from object type to Categorical type and ordr from low to high"
      ],
      "metadata": {
        "id": "_ZvUVPbH8_1N"
      },
      "id": "_ZvUVPbH8_1N"
    },
    {
      "cell_type": "code",
      "source": [
        "df_valid[\"UsageBand\"].unique()"
      ],
      "metadata": {
        "colab": {
          "base_uri": "https://localhost:8080/"
        },
        "id": "5qC3Gb3S9JCg",
        "outputId": "72e9541b-aa9d-4b70-f85a-94186ea240b0"
      },
      "id": "5qC3Gb3S9JCg",
      "execution_count": null,
      "outputs": [
        {
          "output_type": "execute_result",
          "data": {
            "text/plain": [
              "array([-1,  1,  0,  2], dtype=int8)"
            ]
          },
          "metadata": {},
          "execution_count": 16
        }
      ]
    },
    {
      "cell_type": "code",
      "source": [
        "df_valid[\"UsageBand\"]=df_valid[\"UsageBand\"].astype('category')"
      ],
      "metadata": {
        "id": "QEdWKOME9OZp"
      },
      "id": "QEdWKOME9OZp",
      "execution_count": null,
      "outputs": []
    },
    {
      "cell_type": "markdown",
      "id": "e5f268ed-dec3-48c2-9585-2037f5b814b0",
      "metadata": {
        "id": "e5f268ed-dec3-48c2-9585-2037f5b814b0"
      },
      "source": [
        "**at 'Train'** cahnge \"saledate\" column to 'datetime' type"
      ]
    },
    {
      "cell_type": "markdown",
      "source": [
        "**at 'Train**' Convert the saledate column in a pandas DataFrame (df_train) to datetime format and extract temporal components (year, month, day, weekday, hour) into new columns."
      ],
      "metadata": {
        "id": "Q4pO5slQHkGf"
      },
      "id": "Q4pO5slQHkGf"
    },
    {
      "cell_type": "code",
      "execution_count": null,
      "id": "c0808f94-1ba2-4298-893b-7c061b2fadd7",
      "metadata": {
        "id": "c0808f94-1ba2-4298-893b-7c061b2fadd7"
      },
      "outputs": [],
      "source": [
        "df_train[\"saledate\"] = pd.to_datetime(\n",
        "    df_train[\"saledate\"].astype(str).str.strip(),\n",
        "    format=\"%m/%d/%Y %H:%M\",\n",
        "    errors=\"raise\"\n",
        ")\n",
        "\n",
        "\n",
        "df_train[\"year\"] = df_train[\"saledate\"].dt.year\n",
        "df_train[\"month\"] = df_train[\"saledate\"].dt.month\n",
        "df_train[\"day\"] = df_train[\"saledate\"].dt.day\n",
        "df_train[\"weekday\"] = df_train[\"saledate\"].dt.weekday\n",
        "df_train[\"hour\"] = df_train[\"saledate\"].dt.hour"
      ]
    },
    {
      "cell_type": "markdown",
      "source": [
        "**at 'Valid'** Convert the saledate column in a pandas DataFrame (df_train) to datetime format and extract temporal components (year, month, day, weekday, hour) into new columns."
      ],
      "metadata": {
        "id": "2hmWpA6m-E1l"
      },
      "id": "2hmWpA6m-E1l"
    },
    {
      "cell_type": "code",
      "source": [
        "df_valid[\"saledate\"] = pd.to_datetime(\n",
        "    df_valid[\"saledate\"].astype(str).str.strip(),\n",
        "    format=\"%m/%d/%Y %H:%M\",\n",
        "    errors=\"raise\"\n",
        ")\n",
        "\n",
        "df_valid[\"year\"] = df_valid[\"saledate\"].dt.year\n",
        "df_valid[\"month\"] = df_valid[\"saledate\"].dt.month\n",
        "df_valid[\"day\"] = df_valid[\"saledate\"].dt.day\n",
        "df_valid[\"weekday\"] = df_valid[\"saledate\"].dt.weekday\n",
        "df_valid[\"hour\"] = df_valid[\"saledate\"].dt.hour"
      ],
      "metadata": {
        "id": "yIJeVG2N-EZy"
      },
      "id": "yIJeVG2N-EZy",
      "execution_count": null,
      "outputs": []
    },
    {
      "cell_type": "markdown",
      "id": "e33dc808-8af1-4a81-b017-d7f7605cf369",
      "metadata": {
        "id": "e33dc808-8af1-4a81-b017-d7f7605cf369"
      },
      "source": [
        "### **at Train** - delete 'saledate' columns - we dont need it"
      ]
    },
    {
      "cell_type": "code",
      "execution_count": null,
      "id": "85ed5e26-4c97-4440-a337-d67321bb64c7",
      "metadata": {
        "id": "85ed5e26-4c97-4440-a337-d67321bb64c7"
      },
      "outputs": [],
      "source": [
        "df_train = df_train.drop(columns='saledate')"
      ]
    },
    {
      "cell_type": "code",
      "execution_count": null,
      "id": "4dd96641-9173-4cb3-8736-93af50c9e233",
      "metadata": {
        "colab": {
          "base_uri": "https://localhost:8080/"
        },
        "id": "4dd96641-9173-4cb3-8736-93af50c9e233",
        "outputId": "cf06fdf2-224f-464a-d6e3-cc0cdacf5772",
        "collapsed": true
      },
      "outputs": [
        {
          "output_type": "stream",
          "name": "stdout",
          "text": [
            "<class 'pandas.core.frame.DataFrame'>\n",
            "RangeIndex: 401125 entries, 0 to 401124\n",
            "Data columns (total 55 columns):\n",
            " #   Column                    Non-Null Count   Dtype   \n",
            "---  ------                    --------------   -----   \n",
            " 0   SalesID                   401125 non-null  int64   \n",
            " 1   SalePrice                 401125 non-null  int64   \n",
            " 2   MachineID                 401125 non-null  int64   \n",
            " 3   ModelID                   401125 non-null  int64   \n",
            " 4   datasource                401125 non-null  int64   \n",
            " 5   auctioneerID              380989 non-null  float64 \n",
            " 6   YearMade                  401125 non-null  int64   \n",
            " 7   MachineHoursCurrentMeter  142765 non-null  float64 \n",
            " 8   UsageBand                 401125 non-null  category\n",
            " 9   fiBaseModel               401125 non-null  object  \n",
            " 10  fiSecondaryDesc           263934 non-null  object  \n",
            " 11  fiModelSeries             56908 non-null   object  \n",
            " 12  fiModelDescriptor         71919 non-null   object  \n",
            " 13  ProductSize               190350 non-null  object  \n",
            " 14  fiProductClassDesc        401125 non-null  object  \n",
            " 15  state                     401125 non-null  object  \n",
            " 16  ProductGroup              401125 non-null  object  \n",
            " 17  Drive_System              104361 non-null  object  \n",
            " 18  Enclosure                 400800 non-null  object  \n",
            " 19  Forks                     192077 non-null  object  \n",
            " 20  Pad_Type                  79134 non-null   object  \n",
            " 21  Ride_Control              148606 non-null  object  \n",
            " 22  Stick                     79134 non-null   object  \n",
            " 23  Transmission              183230 non-null  object  \n",
            " 24  Turbocharged              79134 non-null   object  \n",
            " 25  Blade_Extension           25219 non-null   object  \n",
            " 26  Blade_Width               25219 non-null   object  \n",
            " 27  Enclosure_Type            25219 non-null   object  \n",
            " 28  Engine_Horsepower         25219 non-null   object  \n",
            " 29  Hydraulics                320570 non-null  object  \n",
            " 30  Pushblock                 25219 non-null   object  \n",
            " 31  Ripper                    104137 non-null  object  \n",
            " 32  Scarifier                 25230 non-null   object  \n",
            " 33  Tip_Control               25219 non-null   object  \n",
            " 34  Tire_Size                 94718 non-null   object  \n",
            " 35  Coupler                   213952 non-null  object  \n",
            " 36  Coupler_System            43458 non-null   object  \n",
            " 37  Grouser_Tracks            43362 non-null   object  \n",
            " 38  Hydraulics_Flow           43362 non-null   object  \n",
            " 39  Track_Type                99153 non-null   object  \n",
            " 40  Undercarriage_Pad_Width   99872 non-null   object  \n",
            " 41  Stick_Length              99218 non-null   object  \n",
            " 42  Thumb                     99288 non-null   object  \n",
            " 43  Pattern_Changer           99218 non-null   object  \n",
            " 44  Grouser_Type              99153 non-null   object  \n",
            " 45  Backhoe_Mounting          78672 non-null   object  \n",
            " 46  Blade_Type                79833 non-null   object  \n",
            " 47  Travel_Controls           79834 non-null   object  \n",
            " 48  Differential_Type         69411 non-null   object  \n",
            " 49  Steering_Controls         69369 non-null   object  \n",
            " 50  year                      401125 non-null  int32   \n",
            " 51  month                     401125 non-null  int32   \n",
            " 52  day                       401125 non-null  int32   \n",
            " 53  weekday                   401125 non-null  int32   \n",
            " 54  hour                      401125 non-null  int32   \n",
            "dtypes: category(1), float64(2), int32(5), int64(6), object(41)\n",
            "memory usage: 158.0+ MB\n"
          ]
        }
      ],
      "source": [
        "df_train.info()"
      ]
    },
    {
      "cell_type": "markdown",
      "source": [
        "### **at Valid** - delete 'saledate' columns - we dont need it"
      ],
      "metadata": {
        "id": "q-o2TIIrIwBf"
      },
      "id": "q-o2TIIrIwBf"
    },
    {
      "cell_type": "code",
      "source": [
        "df_valid = df_valid.drop(columns='saledate')"
      ],
      "metadata": {
        "id": "cU2a33MoIvsf"
      },
      "id": "cU2a33MoIvsf",
      "execution_count": null,
      "outputs": []
    },
    {
      "cell_type": "code",
      "source": [
        "df_valid.info()"
      ],
      "metadata": {
        "colab": {
          "base_uri": "https://localhost:8080/"
        },
        "collapsed": true,
        "id": "seGFdsv0I51s",
        "outputId": "e55b39d9-c2d5-4364-d3ab-9c57f859aa73"
      },
      "id": "seGFdsv0I51s",
      "execution_count": null,
      "outputs": [
        {
          "output_type": "stream",
          "name": "stdout",
          "text": [
            "<class 'pandas.core.frame.DataFrame'>\n",
            "RangeIndex: 11573 entries, 0 to 11572\n",
            "Data columns (total 54 columns):\n",
            " #   Column                    Non-Null Count  Dtype   \n",
            "---  ------                    --------------  -----   \n",
            " 0   SalesID                   11573 non-null  int64   \n",
            " 1   MachineID                 11573 non-null  int64   \n",
            " 2   ModelID                   11573 non-null  int64   \n",
            " 3   datasource                11573 non-null  int64   \n",
            " 4   auctioneerID              11573 non-null  int64   \n",
            " 5   YearMade                  11573 non-null  int64   \n",
            " 6   MachineHoursCurrentMeter  4739 non-null   float64 \n",
            " 7   UsageBand                 11573 non-null  category\n",
            " 8   fiBaseModel               11573 non-null  object  \n",
            " 9   fiSecondaryDesc           8037 non-null   object  \n",
            " 10  fiModelSeries             1759 non-null   object  \n",
            " 11  fiModelDescriptor         2897 non-null   object  \n",
            " 12  ProductSize               5743 non-null   object  \n",
            " 13  fiProductClassDesc        11573 non-null  object  \n",
            " 14  state                     11573 non-null  object  \n",
            " 15  ProductGroup              11573 non-null  object  \n",
            " 16  Drive_System              2726 non-null   object  \n",
            " 17  Enclosure                 11564 non-null  object  \n",
            " 18  Forks                     5638 non-null   object  \n",
            " 19  Pad_Type                  1962 non-null   object  \n",
            " 20  Ride_Control              4122 non-null   object  \n",
            " 21  Stick                     1962 non-null   object  \n",
            " 22  Transmission              4777 non-null   object  \n",
            " 23  Turbocharged              1962 non-null   object  \n",
            " 24  Blade_Extension           764 non-null    object  \n",
            " 25  Blade_Width               764 non-null    object  \n",
            " 26  Enclosure_Type            764 non-null    object  \n",
            " 27  Engine_Horsepower         764 non-null    object  \n",
            " 28  Hydraulics                9563 non-null   object  \n",
            " 29  Pushblock                 764 non-null    object  \n",
            " 30  Ripper                    2808 non-null   object  \n",
            " 31  Scarifier                 764 non-null    object  \n",
            " 32  Tip_Control               764 non-null    object  \n",
            " 33  Tire_Size                 2920 non-null   object  \n",
            " 34  Coupler                   6727 non-null   object  \n",
            " 35  Coupler_System            1516 non-null   object  \n",
            " 36  Grouser_Tracks            1513 non-null   object  \n",
            " 37  Hydraulics_Flow           1513 non-null   object  \n",
            " 38  Track_Type                3040 non-null   object  \n",
            " 39  Undercarriage_Pad_Width   3044 non-null   object  \n",
            " 40  Stick_Length              3043 non-null   object  \n",
            " 41  Thumb                     3044 non-null   object  \n",
            " 42  Pattern_Changer           3043 non-null   object  \n",
            " 43  Grouser_Type              3040 non-null   object  \n",
            " 44  Backhoe_Mounting          2040 non-null   object  \n",
            " 45  Blade_Type                2042 non-null   object  \n",
            " 46  Travel_Controls           2043 non-null   object  \n",
            " 47  Differential_Type         2153 non-null   object  \n",
            " 48  Steering_Controls         2153 non-null   object  \n",
            " 49  year                      11573 non-null  int32   \n",
            " 50  month                     11573 non-null  int32   \n",
            " 51  day                       11573 non-null  int32   \n",
            " 52  weekday                   11573 non-null  int32   \n",
            " 53  hour                      11573 non-null  int32   \n",
            "dtypes: category(1), float64(1), int32(5), int64(6), object(41)\n",
            "memory usage: 4.5+ MB\n"
          ]
        }
      ]
    },
    {
      "cell_type": "markdown",
      "id": "8749f0cb-fbb4-4fc2-ad8f-e01e297f4634",
      "metadata": {
        "id": "8749f0cb-fbb4-4fc2-ad8f-e01e297f4634"
      },
      "source": [
        "### check object/string columns"
      ]
    },
    {
      "cell_type": "code",
      "execution_count": null,
      "id": "fb28b725-5ec3-4919-82a3-0109965aa12a",
      "metadata": {
        "colab": {
          "base_uri": "https://localhost:8080/"
        },
        "id": "fb28b725-5ec3-4919-82a3-0109965aa12a",
        "outputId": "34b39160-9ac0-4ce1-9717-5844d6528814"
      },
      "outputs": [
        {
          "output_type": "stream",
          "name": "stdout",
          "text": [
            "object_columns =  ['fiBaseModel', 'fiSecondaryDesc', 'fiModelSeries', 'fiModelDescriptor', 'ProductSize', 'fiProductClassDesc', 'state', 'ProductGroup', 'Drive_System', 'Enclosure', 'Forks', 'Pad_Type', 'Ride_Control', 'Stick', 'Transmission', 'Turbocharged', 'Blade_Extension', 'Blade_Width', 'Enclosure_Type', 'Engine_Horsepower', 'Hydraulics', 'Pushblock', 'Ripper', 'Scarifier', 'Tip_Control', 'Tire_Size', 'Coupler', 'Coupler_System', 'Grouser_Tracks', 'Hydraulics_Flow', 'Track_Type', 'Undercarriage_Pad_Width', 'Stick_Length', 'Thumb', 'Pattern_Changer', 'Grouser_Type', 'Backhoe_Mounting', 'Blade_Type', 'Travel_Controls', 'Differential_Type', 'Steering_Controls']\n"
          ]
        }
      ],
      "source": [
        "object_columns = df_train.columns[df_train.dtypes == 'object'].tolist()\n",
        "print(\"object_columns = \" , object_columns)"
      ]
    },
    {
      "cell_type": "code",
      "execution_count": null,
      "id": "e2f70867-582e-473d-ae4c-1b61806675d3",
      "metadata": {
        "colab": {
          "base_uri": "https://localhost:8080/"
        },
        "id": "e2f70867-582e-473d-ae4c-1b61806675d3",
        "outputId": "384b0e12-191d-4294-9428-804628da9e1b"
      },
      "outputs": [
        {
          "output_type": "stream",
          "name": "stdout",
          "text": [
            "fiBaseModel\n",
            "580      19798\n",
            "310      17354\n",
            "D6       13110\n",
            "416      12687\n",
            "D5        9342\n",
            "         ...  \n",
            "ZX17         1\n",
            "UH171        1\n",
            "UH053        1\n",
            "KZ65         1\n",
            "HW180        1\n",
            "Name: count, Length: 1950, dtype: int64\n",
            "fiSecondaryDesc\n",
            "C                43235\n",
            "B                39203\n",
            "G                36424\n",
            "H                24050\n",
            "E                21048\n",
            "                 ...  \n",
            "MC                   1\n",
            "LC7LR                1\n",
            "-6                   1\n",
            " MSR SPIN ACE        1\n",
            "NLC                  1\n",
            "Name: count, Length: 175, dtype: int64\n",
            "fiModelSeries\n",
            "II           13202\n",
            "LC            8936\n",
            "III           5238\n",
            "-1            4591\n",
            "-2            3952\n",
            "             ...  \n",
            "WT               1\n",
            "7L               1\n",
            "Q                1\n",
            "ZHS              1\n",
            "FASTRRACK        1\n",
            "Name: count, Length: 122, dtype: int64\n",
            "fiModelDescriptor\n",
            "L           15875\n",
            "LGP         15558\n",
            "LC          12750\n",
            "XL           6434\n",
            "6            2885\n",
            "            ...  \n",
            "III             1\n",
            "HighLift        1\n",
            "4x4x4           1\n",
            "VHP/AWD         1\n",
            "K3              1\n",
            "Name: count, Length: 139, dtype: int64\n",
            "ProductSize\n",
            "Medium            62274\n",
            "Large / Medium    49678\n",
            "Small             26494\n",
            "Mini              24840\n",
            "Large             20975\n",
            "Compact            6089\n",
            "Name: count, dtype: int64\n",
            "fiProductClassDesc\n",
            "Backhoe Loader - 14.0 to 15.0 Ft Standard Digging Depth             56166\n",
            "Track Type Tractor, Dozer - 20.0 to 75.0 Horsepower                 17788\n",
            "Wheel Loader - 150.0 to 175.0 Horsepower                            15114\n",
            "Track Type Tractor, Dozer - 85.0 to 105.0 Horsepower                14731\n",
            "Hydraulic Excavator, Track - 21.0 to 24.0 Metric Tons               13323\n",
            "                                                                    ...  \n",
            "Hydraulic Excavator, Track - Unidentified (Compact Construction)       38\n",
            "Wheel Loader - 1000.0 + Horsepower                                     25\n",
            "Hydraulic Excavator, Track - 150.0 to 300.0 Metric Tons                21\n",
            "Hydraulic Excavator, Track - 300.0 + Metric Tons                        1\n",
            "Motorgrader - Unidentified                                              1\n",
            "Name: count, Length: 74, dtype: int64\n",
            "state\n",
            "Florida           63944\n",
            "Texas             51682\n",
            "California        29019\n",
            "Washington        15955\n",
            "Georgia           14309\n",
            "Maryland          12965\n",
            "Mississippi       12961\n",
            "Ohio              12190\n",
            "Colorado          11254\n",
            "Illinois          11209\n",
            "New Jersey        10882\n",
            "North Carolina    10404\n",
            "Tennessee         10027\n",
            "Alabama            9997\n",
            "Pennsylvania       9941\n",
            "South Carolina     9794\n",
            "Arizona            9173\n",
            "New York           8604\n",
            "Connecticut        8128\n",
            "Minnesota          7734\n",
            "Missouri           6961\n",
            "Nevada             6693\n",
            "Louisiana          6450\n",
            "Kentucky           5278\n",
            "Maine              5095\n",
            "Indiana            4086\n",
            "Arkansas           3869\n",
            "New Mexico         3529\n",
            "Utah               2895\n",
            "Unspecified        2801\n",
            "New Hampshire      2724\n",
            "Wisconsin          2668\n",
            "Virginia           2288\n",
            "Idaho              2018\n",
            "Oregon             1775\n",
            "Michigan           1763\n",
            "Wyoming            1662\n",
            "Montana            1327\n",
            "Oklahoma           1311\n",
            "Iowa               1215\n",
            "West Virginia       746\n",
            "Nebraska            722\n",
            "Kansas              659\n",
            "Delaware            509\n",
            "Alaska              430\n",
            "North Dakota        410\n",
            "Massachusetts       328\n",
            "Vermont             300\n",
            "South Dakota        203\n",
            "Hawaii              118\n",
            "Rhode Island         82\n",
            "Puerto Rico          36\n",
            "Washington DC         2\n",
            "Name: count, dtype: int64\n",
            "ProductGroup\n",
            "TEX    101167\n",
            "TTT     80520\n",
            "BL      79415\n",
            "WL      71046\n",
            "SSL     43488\n",
            "MG      25489\n",
            "Name: count, dtype: int64\n",
            "Drive_System\n",
            "Two Wheel Drive     46139\n",
            "Four Wheel Drive    32996\n",
            "No                  24428\n",
            "All Wheel Drive       798\n",
            "Name: count, dtype: int64\n",
            "Enclosure\n",
            "OROPS                  173932\n",
            "EROPS                  139026\n",
            "EROPS w AC              87820\n",
            "EROPS AC                   17\n",
            "NO ROPS                     3\n",
            "None or Unspecified         2\n",
            "Name: count, dtype: int64\n",
            "Forks\n",
            "None or Unspecified    178300\n",
            "Yes                     13777\n",
            "Name: count, dtype: int64\n",
            "Pad_Type\n",
            "None or Unspecified    70614\n",
            "Reversible              5832\n",
            "Street                  2663\n",
            "Grouser                   25\n",
            "Name: count, dtype: int64\n",
            "Ride_Control\n",
            "No                     77685\n",
            "None or Unspecified    63116\n",
            "Yes                     7805\n",
            "Name: count, dtype: int64\n",
            "Stick\n",
            "Standard    48829\n",
            "Extended    30305\n",
            "Name: count, dtype: int64\n",
            "Transmission\n",
            "Standard               140328\n",
            "None or Unspecified     23147\n",
            "Powershift              11731\n",
            "Powershuttle             4244\n",
            "Hydrostatic              3204\n",
            "Direct Drive              418\n",
            "Autoshift                 114\n",
            "AutoShift                  44\n",
            "Name: count, dtype: int64\n",
            "Turbocharged\n",
            "None or Unspecified    75211\n",
            "Yes                     3923\n",
            "Name: count, dtype: int64\n",
            "Blade_Extension\n",
            "None or Unspecified    24692\n",
            "Yes                      527\n",
            "Name: count, dtype: int64\n",
            "Blade_Width\n",
            "14'                    9615\n",
            "None or Unspecified    9283\n",
            "12'                    4968\n",
            "16'                     933\n",
            "13'                     329\n",
            "<12'                     91\n",
            "Name: count, dtype: int64\n",
            "Enclosure_Type\n",
            "None or Unspecified    21923\n",
            "Low Profile             2510\n",
            "High Profile             786\n",
            "Name: count, dtype: int64\n",
            "Engine_Horsepower\n",
            "No          23937\n",
            "Variable     1282\n",
            "Name: count, dtype: int64\n",
            "Hydraulics\n",
            "2 Valve                141404\n",
            "Standard               104423\n",
            "Auxiliary               40737\n",
            "Base + 1 Function       24770\n",
            "3 Valve                  5622\n",
            "4 Valve                  2960\n",
            "Base + 3 Function         299\n",
            "Base + 2 Function         127\n",
            "Base + 5 Function          89\n",
            "Base + 4 Function          76\n",
            "Base + 6 Function          53\n",
            "None or Unspecified        10\n",
            "Name: count, dtype: int64\n",
            "Pushblock\n",
            "None or Unspecified    19463\n",
            "Yes                     5756\n",
            "Name: count, dtype: int64\n",
            "Ripper\n",
            "None or Unspecified    83452\n",
            "Yes                     7902\n",
            "Multi Shank             7633\n",
            "Single Shank            5150\n",
            "Name: count, dtype: int64\n",
            "Scarifier\n",
            "None or Unspecified    12719\n",
            "Yes                    12511\n",
            "Name: count, dtype: int64\n",
            "Tip_Control\n",
            "None or Unspecified    16207\n",
            "Sideshift & Tip         7070\n",
            "Tip                     1942\n",
            "Name: count, dtype: int64\n",
            "Tire_Size\n",
            "None or Unspecified    46339\n",
            "20.5                   15242\n",
            "14\"                     8813\n",
            "23.5                    8480\n",
            "26.5                    4482\n",
            "17.5                    3932\n",
            "29.5                    2704\n",
            "17.5\"                   1793\n",
            "13\"                      766\n",
            "20.5\"                    718\n",
            "15.5                     607\n",
            "15.5\"                    457\n",
            "23.5\"                    302\n",
            "7.0\"                      52\n",
            "23.1\"                     20\n",
            "10\"                        8\n",
            "10 inch                    3\n",
            "Name: count, dtype: int64\n",
            "Coupler\n",
            "None or Unspecified    184582\n",
            "Manual                  23301\n",
            "Hydraulic                6069\n",
            "Name: count, dtype: int64\n",
            "Coupler_System\n",
            "None or Unspecified    40430\n",
            "Yes                     3028\n",
            "Name: count, dtype: int64\n",
            "Grouser_Tracks\n",
            "None or Unspecified    40515\n",
            "Yes                     2847\n",
            "Name: count, dtype: int64\n",
            "Hydraulics_Flow\n",
            "Standard               42784\n",
            "High Flow                553\n",
            "None or Unspecified       25\n",
            "Name: count, dtype: int64\n",
            "Track_Type\n",
            "Steel     84880\n",
            "Rubber    14273\n",
            "Name: count, dtype: int64\n",
            "Undercarriage_Pad_Width\n",
            "None or Unspecified    79651\n",
            "32 inch                 5213\n",
            "28 inch                 3114\n",
            "24 inch                 2962\n",
            "20 inch                 2652\n",
            "30 inch                 1592\n",
            "36 inch                 1519\n",
            "18 inch                 1429\n",
            "34 inch                  531\n",
            "16 inch                  460\n",
            "31 inch                  184\n",
            "27 inch                  143\n",
            "22 inch                  133\n",
            "26 inch                   97\n",
            "33 inch                   91\n",
            "14 inch                   49\n",
            "15 inch                   33\n",
            "25 inch                   17\n",
            "31.5 inch                  2\n",
            "Name: count, dtype: int64\n",
            "Stick_Length\n",
            "None or Unspecified    78820\n",
            "9' 6\"                   5765\n",
            "10' 6\"                  3456\n",
            "11' 0\"                  1577\n",
            "9' 10\"                  1439\n",
            "9' 8\"                   1434\n",
            "9' 7\"                   1401\n",
            "12' 10\"                 1066\n",
            "10' 2\"                   983\n",
            "8' 6\"                    901\n",
            "8' 2\"                    606\n",
            "10' 10\"                  404\n",
            "12' 8\"                   317\n",
            "11' 10\"                  299\n",
            "8' 4\"                    271\n",
            "8' 10\"                   103\n",
            "9' 5\"                    101\n",
            "12' 4\"                    97\n",
            "15' 9\"                    84\n",
            "6' 3\"                     50\n",
            "13' 7\"                    10\n",
            "14' 1\"                     7\n",
            "13' 9\"                     7\n",
            "13' 10\"                    6\n",
            "19' 8\"                     5\n",
            "7' 10\"                     3\n",
            "15' 4\"                     3\n",
            "24' 3\"                     2\n",
            "9' 2\"                      1\n",
            "Name: count, dtype: int64\n",
            "Thumb\n",
            "None or Unspecified    83093\n",
            "Manual                  9358\n",
            "Hydraulic               6837\n",
            "Name: count, dtype: int64\n",
            "Pattern_Changer\n",
            "None or Unspecified    90255\n",
            "Yes                     8898\n",
            "No                        65\n",
            "Name: count, dtype: int64\n",
            "Grouser_Type\n",
            "Double    84653\n",
            "Triple    14498\n",
            "Single        2\n",
            "Name: count, dtype: int64\n",
            "Backhoe_Mounting\n",
            "None or Unspecified    78652\n",
            "Yes                       20\n",
            "Name: count, dtype: int64\n",
            "Blade_Type\n",
            "PAT                    38612\n",
            "Straight               13323\n",
            "None or Unspecified    11431\n",
            "Semi U                  8617\n",
            "VPAT                    3547\n",
            "U                       1862\n",
            "Angle                   1662\n",
            "No                       743\n",
            "Landfill                  25\n",
            "Coal                      11\n",
            "Name: count, dtype: int64\n",
            "Travel_Controls\n",
            "None or Unspecified    69923\n",
            "Differential Steer      4879\n",
            "Finger Tip              2624\n",
            "2 Pedal                 1142\n",
            "Lever                    840\n",
            "Pedal                    416\n",
            "1 Speed                   10\n",
            "Name: count, dtype: int64\n",
            "Differential_Type\n",
            "Standard        68073\n",
            "Limited Slip     1130\n",
            "No Spin           206\n",
            "Locking             2\n",
            "Name: count, dtype: int64\n",
            "Steering_Controls\n",
            "Conventional           68679\n",
            "Command Control          537\n",
            "Four Wheel Standard      138\n",
            "Wheel                     14\n",
            "No                         1\n",
            "Name: count, dtype: int64\n"
          ]
        }
      ],
      "source": [
        "for i in object_columns:\n",
        "\n",
        "    print(df_train[i].value_counts())\n"
      ]
    },
    {
      "cell_type": "markdown",
      "id": "ca984d76-5a66-4214-87a1-42f8adbd5086",
      "metadata": {
        "id": "ca984d76-5a66-4214-87a1-42f8adbd5086"
      },
      "source": [
        "### **at Train** removing object/string columns"
      ]
    },
    {
      "cell_type": "code",
      "execution_count": null,
      "id": "6e9691b5-d466-43b1-80eb-7bc6f80760ef",
      "metadata": {
        "id": "6e9691b5-d466-43b1-80eb-7bc6f80760ef"
      },
      "outputs": [],
      "source": [
        "df_train = df_train.drop(columns=object_columns)  # i will handle categorical data later"
      ]
    },
    {
      "cell_type": "markdown",
      "source": [
        "### **at Valid** removing object/string columns"
      ],
      "metadata": {
        "id": "_wcIzSIrJWHz"
      },
      "id": "_wcIzSIrJWHz"
    },
    {
      "cell_type": "code",
      "execution_count": null,
      "id": "5ee37aad-4a6d-4aa2-99b5-ad8acb7e6cfc",
      "metadata": {
        "id": "5ee37aad-4a6d-4aa2-99b5-ad8acb7e6cfc"
      },
      "outputs": [],
      "source": [
        "df_valid = df_valid.drop(columns=object_columns)  # i will handle categorical data later"
      ]
    },
    {
      "cell_type": "markdown",
      "id": "2de4eb27-b360-4c0e-99d6-e641fcaa3ecb",
      "metadata": {
        "id": "2de4eb27-b360-4c0e-99d6-e641fcaa3ecb"
      },
      "source": [
        "## BOX PLOT"
      ]
    },
    {
      "cell_type": "code",
      "execution_count": null,
      "id": "c225b6ee-8df4-4518-8823-a0920254371f",
      "metadata": {
        "scrolled": true,
        "id": "c225b6ee-8df4-4518-8823-a0920254371f"
      },
      "outputs": [],
      "source": [
        "# df_train.plot(kind='box',subplots=True,figsize=(12,12),sharex=False,sharey=False)"
      ]
    },
    {
      "cell_type": "code",
      "execution_count": null,
      "id": "4d318cc2-e2c3-4426-9d07-a6adfce7f87d",
      "metadata": {
        "id": "4d318cc2-e2c3-4426-9d07-a6adfce7f87d"
      },
      "outputs": [],
      "source": [
        "# for i in X.columns:\n",
        "#    plt.figure(figsize=(12,6))\n",
        "#    print(sns.boxplot(X[i]))"
      ]
    },
    {
      "cell_type": "code",
      "execution_count": null,
      "id": "09d924f9-c838-46e9-be6b-72338dc97171",
      "metadata": {
        "id": "09d924f9-c838-46e9-be6b-72338dc97171"
      },
      "outputs": [],
      "source": [
        "# sns.boxplot(X[\"YearMade\"])"
      ]
    },
    {
      "cell_type": "markdown",
      "id": "badc0d47-ea36-493d-b4dd-a7d4aa4f44db",
      "metadata": {
        "id": "badc0d47-ea36-493d-b4dd-a7d4aa4f44db"
      },
      "source": [
        "#### outlayers"
      ]
    },
    {
      "cell_type": "code",
      "execution_count": null,
      "id": "cb08be14-a69f-45dc-901a-9f83bfa44440",
      "metadata": {
        "id": "cb08be14-a69f-45dc-901a-9f83bfa44440"
      },
      "outputs": [],
      "source": [
        "# X=X[X[\"YearMade\"]>1940]"
      ]
    },
    {
      "cell_type": "code",
      "execution_count": null,
      "id": "5c9f5a23-252c-46bc-8e05-8b8e435ea16d",
      "metadata": {
        "id": "5c9f5a23-252c-46bc-8e05-8b8e435ea16d"
      },
      "outputs": [],
      "source": [
        "# sns.boxplot(X[\"YearMade\"])"
      ]
    },
    {
      "cell_type": "code",
      "execution_count": null,
      "id": "097d4e7a-2b55-4f96-b545-07beb5a84047",
      "metadata": {
        "id": "097d4e7a-2b55-4f96-b545-07beb5a84047"
      },
      "outputs": [],
      "source": []
    },
    {
      "cell_type": "markdown",
      "id": "d6909a33-1949-4bee-9df2-c6f3a71d07a6",
      "metadata": {
        "id": "d6909a33-1949-4bee-9df2-c6f3a71d07a6"
      },
      "source": [
        "### initial the model"
      ]
    },
    {
      "cell_type": "code",
      "execution_count": null,
      "id": "9f3a82a7-4526-420a-ace8-4d8e0c02bc62",
      "metadata": {
        "id": "9f3a82a7-4526-420a-ace8-4d8e0c02bc62"
      },
      "outputs": [],
      "source": [
        "X = df_train.drop(columns='SalePrice')\n",
        "y = df_train['SalePrice']"
      ]
    },
    {
      "cell_type": "code",
      "execution_count": null,
      "id": "55117aca-254b-4abd-9aca-e242c73c710c",
      "metadata": {
        "colab": {
          "base_uri": "https://localhost:8080/"
        },
        "id": "55117aca-254b-4abd-9aca-e242c73c710c",
        "outputId": "effaae4d-a9ac-4fe9-e33e-e35cf62e6380",
        "collapsed": true
      },
      "outputs": [
        {
          "output_type": "stream",
          "name": "stdout",
          "text": [
            "<class 'pandas.core.frame.DataFrame'>\n",
            "Index: 320900 entries, 174860 to 121958\n",
            "Data columns (total 13 columns):\n",
            " #   Column                    Non-Null Count   Dtype   \n",
            "---  ------                    --------------   -----   \n",
            " 0   SalesID                   320900 non-null  int64   \n",
            " 1   MachineID                 320900 non-null  int64   \n",
            " 2   ModelID                   320900 non-null  int64   \n",
            " 3   datasource                320900 non-null  int64   \n",
            " 4   auctioneerID              304844 non-null  float64 \n",
            " 5   YearMade                  320900 non-null  int64   \n",
            " 6   MachineHoursCurrentMeter  114082 non-null  float64 \n",
            " 7   UsageBand                 320900 non-null  category\n",
            " 8   year                      320900 non-null  int32   \n",
            " 9   month                     320900 non-null  int32   \n",
            " 10  day                       320900 non-null  int32   \n",
            " 11  weekday                   320900 non-null  int32   \n",
            " 12  hour                      320900 non-null  int32   \n",
            "dtypes: category(1), float64(2), int32(5), int64(5)\n",
            "memory usage: 26.0 MB\n"
          ]
        }
      ],
      "source": [
        "X_train, X_test, y_train, y_test = train_test_split(X, y, test_size=0.2, random_state=42)\n",
        "X_train.info()"
      ]
    },
    {
      "cell_type": "code",
      "execution_count": null,
      "id": "c68fc96e-0aa4-40ed-a73b-8917351dde68",
      "metadata": {
        "id": "c68fc96e-0aa4-40ed-a73b-8917351dde68"
      },
      "outputs": [],
      "source": [
        "from sklearn.ensemble import RandomForestRegressor\n",
        "from sklearn.metrics import mean_squared_error"
      ]
    },
    {
      "cell_type": "code",
      "execution_count": null,
      "id": "699ddbca-2e43-4169-8b84-03336b67bf56",
      "metadata": {
        "colab": {
          "base_uri": "https://localhost:8080/"
        },
        "id": "699ddbca-2e43-4169-8b84-03336b67bf56",
        "outputId": "013f91c6-6ca2-4d8a-eafa-2383673fdf74"
      },
      "outputs": [
        {
          "output_type": "stream",
          "name": "stdout",
          "text": [
            " התחלה: 2025-08-30 22:58:24\n",
            "\n",
            "Train RMSE: 3139.4147148782126\n",
            "Test RMSE: 8433.199136521675\n",
            "\n",
            " סיום: 2025-08-30 23:04:41\n",
            "\n"
          ]
        }
      ],
      "source": [
        "start_time = datetime.now().strftime(\"%Y-%m-%d %H:%M:%S\")\n",
        "\n",
        "print(\" התחלה:\", start_time)\n",
        "print()\n",
        "\n",
        "\n",
        "model = RandomForestRegressor()\n",
        "model.fit(X_train, y_train)\n",
        "\n",
        "y_train_pred = model.predict(X_train)\n",
        "y_test_pred = model.predict(X_test)\n",
        "\n",
        "print('Train RMSE:', mean_squared_error(y_train, y_train_pred)**0.5)\n",
        "print('Test RMSE:', mean_squared_error(y_test, y_test_pred)**0.5)\n",
        "\n",
        "print()\n",
        "end_time = time.time()\n",
        "print(\" סיום:\", datetime.now().strftime(\"%Y-%m-%d %H:%M:%S\"))\n",
        "print()\n",
        "\n",
        "# print(f\"משך ריצה: {end_time - start_time:.0f} שניות\")\n"
      ]
    },
    {
      "cell_type": "markdown",
      "source": [
        "## creat X_valid with the same columns as X.traun"
      ],
      "metadata": {
        "id": "1aooik5jR0vn"
      },
      "id": "1aooik5jR0vn"
    },
    {
      "cell_type": "code",
      "source": [
        "X_valid = df_valid[X_train.columns]"
      ],
      "metadata": {
        "id": "Fs-AmItk4o7Y"
      },
      "id": "Fs-AmItk4o7Y",
      "execution_count": null,
      "outputs": []
    },
    {
      "cell_type": "markdown",
      "source": [
        "Predict SalePrice for the validation set (X_valid) using the trained model"
      ],
      "metadata": {
        "id": "8b42h21dRd0K"
      },
      "id": "8b42h21dRd0K"
    },
    {
      "cell_type": "code",
      "source": [
        "y_valid_pred = model.predict(X_valid)"
      ],
      "metadata": {
        "id": "FH9e0f6aSRaO"
      },
      "id": "FH9e0f6aSRaO",
      "execution_count": null,
      "outputs": []
    },
    {
      "cell_type": "code",
      "source": [],
      "metadata": {
        "id": "ubTfXIAaSSWs"
      },
      "id": "ubTfXIAaSSWs",
      "execution_count": null,
      "outputs": []
    },
    {
      "cell_type": "markdown",
      "source": [
        "Creat Data frame with two coloumns"
      ],
      "metadata": {
        "id": "9wROBKGMULNS"
      },
      "id": "9wROBKGMULNS"
    },
    {
      "cell_type": "code",
      "source": [
        "submission = pd.DataFrame({\n",
        "    'SalesID': df_valid['SalesID'],\n",
        "    'SalePrice': y_valid_pred\n",
        "})"
      ],
      "metadata": {
        "id": "Ytgxb-zNTU3f"
      },
      "id": "Ytgxb-zNTU3f",
      "execution_count": null,
      "outputs": []
    },
    {
      "cell_type": "markdown",
      "source": [],
      "metadata": {
        "id": "PWoX5QFpUqWM"
      },
      "id": "PWoX5QFpUqWM"
    },
    {
      "cell_type": "code",
      "source": [
        "submission.to_csv('submission_Y_1.csv', index=False)"
      ],
      "metadata": {
        "id": "YHT2RYqATV8m"
      },
      "id": "YHT2RYqATV8m",
      "execution_count": null,
      "outputs": []
    },
    {
      "cell_type": "code",
      "source": [],
      "metadata": {
        "id": "sWCTvv9AU2SR"
      },
      "id": "sWCTvv9AU2SR",
      "execution_count": null,
      "outputs": []
    }
  ],
  "metadata": {
    "kernelspec": {
      "display_name": "Python 3",
      "name": "python3"
    },
    "language_info": {
      "codemirror_mode": {
        "name": "ipython",
        "version": 3
      },
      "file_extension": ".py",
      "mimetype": "text/x-python",
      "name": "python",
      "nbconvert_exporter": "python",
      "pygments_lexer": "ipython3",
      "version": "3.12.7"
    },
    "colab": {
      "provenance": [],
      "gpuType": "T4",
      "include_colab_link": true
    },
    "accelerator": "GPU"
  },
  "nbformat": 4,
  "nbformat_minor": 5
}